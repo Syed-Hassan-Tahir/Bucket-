{
  "nbformat": 4,
  "nbformat_minor": 0,
  "metadata": {
    "colab": {
      "provenance": [],
      "mount_file_id": "1n662W396wy5GCrKUeZhftf-TRfNf6oi8",
      "authorship_tag": "ABX9TyNRNvN3Xk4kOOlgfSznEfwK",
      "include_colab_link": true
    },
    "kernelspec": {
      "name": "python3",
      "display_name": "Python 3"
    },
    "language_info": {
      "name": "python"
    }
  },
  "cells": [
    {
      "cell_type": "markdown",
      "metadata": {
        "id": "view-in-github",
        "colab_type": "text"
      },
      "source": [
        "<a href=\"https://colab.research.google.com/github/Syed-Hassan-Tahir/Bucket-/blob/main/Untitled0.ipynb\" target=\"_parent\"><img src=\"https://colab.research.google.com/assets/colab-badge.svg\" alt=\"Open In Colab\"/></a>"
      ]
    },
    {
      "cell_type": "code",
      "execution_count": null,
      "metadata": {
        "colab": {
          "base_uri": "https://localhost:8080/"
        },
        "id": "fnRV0xZnu5wI",
        "outputId": "bffe17c9-2ea4-492a-9908-07c4fbe63a4f"
      },
      "outputs": [
        {
          "output_type": "stream",
          "name": "stdout",
          "text": [
            "Solution found with the following steps:\n",
            "(8, 0, 0)\n",
            "(3, 5, 0)\n",
            "(3, 2, 3)\n",
            "(6, 2, 0)\n",
            "(6, 0, 2)\n",
            "(6, 5, 2)\n",
            "(6, 4, 3)\n"
          ]
        }
      ],
      "source": [
        "from collections import deque\n",
        "\n",
        "# Function to check if the current state contains exactly 4 liters in any bucket\n",
        "def is_goal(state):\n",
        "    return 4 in state\n",
        "\n",
        "# Function to get all possible moves (transitions) from the current state\n",
        "def get_next_states(state):\n",
        "    x, y, z = state\n",
        "    capacities = (8, 5, 3)\n",
        "    next_states = set()\n",
        "\n",
        "    # Fill each bucket\n",
        "    next_states.add((capacities[0], y, z))  # Fill 8-liter bucket\n",
        "    next_states.add((x, capacities[1], z))  # Fill 5-liter bucket\n",
        "    next_states.add((x, y, capacities[2]))  # Fill 3-liter bucket\n",
        "\n",
        "    # Empty each bucket\n",
        "    next_states.add((0, y, z))  # Empty 8-liter bucket\n",
        "    next_states.add((x, 0, z))  # Empty 5-liter bucket\n",
        "    next_states.add((x, y, 0))  # Empty 3-liter bucket\n",
        "\n",
        "    # Pour from one bucket into another\n",
        "    # Pour from 8-liter to 5-liter\n",
        "    pour = min(x, capacities[1] - y)\n",
        "    next_states.add((x - pour, y + pour, z))\n",
        "\n",
        "    # Pour from 8-liter to 3-liter\n",
        "    pour = min(x, capacities[2] - z)\n",
        "    next_states.add((x - pour, y, z + pour))\n",
        "\n",
        "    # Pour from 5-liter to 8-liter\n",
        "    pour = min(y, capacities[0] - x)\n",
        "    next_states.add((x + pour, y - pour, z))\n",
        "\n",
        "    # Pour from 5-liter to 3-liter\n",
        "    pour = min(y, capacities[2] - z)\n",
        "    next_states.add((x, y - pour, z + pour))\n",
        "\n",
        "    # Pour from 3-liter to 8-liter\n",
        "    pour = min(z, capacities[0] - x)\n",
        "    next_states.add((x + pour, y, z - pour))\n",
        "\n",
        "    # Pour from 3-liter to 5-liter\n",
        "    pour = min(z, capacities[1] - y)\n",
        "    next_states.add((x, y + pour, z - pour))\n",
        "\n",
        "    return next_states\n",
        "\n",
        "# BFS to find the solution with the minimal number of moves\n",
        "def water_bucket_puzzle():\n",
        "    initial_state = (8, 0, 0)  # Start with the 8-liter bucket full\n",
        "    queue = deque([(initial_state, [])])  # Store (state, path)\n",
        "    visited = set([initial_state])\n",
        "\n",
        "    while queue:\n",
        "        current_state, path = queue.popleft()\n",
        "\n",
        "        # Check if the current state meets the goal\n",
        "        if is_goal(current_state):\n",
        "            return path + [current_state]  # Return the path to the solution\n",
        "\n",
        "        # Explore the next possible states\n",
        "        for next_state in get_next_states(current_state):\n",
        "            if next_state not in visited:\n",
        "                visited.add(next_state)\n",
        "                queue.append((next_state, path + [current_state]))\n",
        "\n",
        "    return None  # No solution found\n",
        "\n",
        "# Run the puzzle solver and print the solution path\n",
        "solution = water_bucket_puzzle()\n",
        "if solution:\n",
        "    print(\"Solution found with the following steps:\")\n",
        "    for step in solution:\n",
        "        print(step)\n",
        "else:\n",
        "    print(\"No solution found.\")\n"
      ]
    },
    {
      "cell_type": "code",
      "source": [
        "from google.colab import drive\n",
        "drive.mount('/content/drive')"
      ],
      "metadata": {
        "id": "sA9nap-yU3sq"
      },
      "execution_count": null,
      "outputs": []
    }
  ]
}